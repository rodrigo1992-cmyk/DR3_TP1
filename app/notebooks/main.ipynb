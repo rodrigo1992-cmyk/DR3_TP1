{
 "cells": [
  {
   "cell_type": "markdown",
   "metadata": {},
   "source": [
    "# Rodrigo_Mesquita_DR3_TP1\n",
    "## Desenvolvimento de Data-Driven Apps com Python [24E4_3]"
   ]
  },
  {
   "cell_type": "markdown",
   "metadata": {},
   "source": [
    "### Link Github: https://github.com/rodrigo1992-cmyk/DR3_TP1"
   ]
  },
  {
   "cell_type": "markdown",
   "metadata": {},
   "source": [
    "### Exercício 1 - Configurar ambiente de desenvolvimento para uso de FastAPI\n",
    "* Instale o FastAPI e o servidor Uvicorn no seu ambiente local. Apresente um print da instalação bem-sucedida.\n",
    "Dica: Utilize o comando pip install fastapi uvicorn."
   ]
  },
  {
   "cell_type": "markdown",
   "metadata": {},
   "source": [
    "![Exercício_1](imagens/Exec1_1.png)"
   ]
  },
  {
   "cell_type": "markdown",
   "metadata": {},
   "source": [
    "### Exercício 2 - Construir uma aplicação simples usando FastAPI\n",
    "* Crie uma aplicação básica em FastAPI que exiba a mensagem \"Hello, FastAPI!\" na rota principal (/). Execute a aplicação e envie um print da resposta no navegador."
   ]
  },
  {
   "cell_type": "markdown",
   "metadata": {},
   "source": [
    "![Exercício_2](imagens/Exec2_1.png)"
   ]
  },
  {
   "cell_type": "markdown",
   "metadata": {},
   "source": [
    "### Exercício 3 - Criar rotas em uma aplicação FastAPI\n",
    "* Adicione mais duas rotas na sua aplicação:\n",
    "  * Uma rota /status que retorna uma mensagem indicando que o servidor está funcionando.\n",
    "  * Uma rota /user/{username} que receba um parâmetro na URL e retorne uma saudação personalizada para o usuário."
   ]
  },
  {
   "cell_type": "markdown",
   "metadata": {},
   "source": [
    "![Exercício_3](imagens/Exec3_3.png)"
   ]
  },
  {
   "cell_type": "markdown",
   "metadata": {},
   "source": [
    "![Exercício_3](imagens/Exec3_4.png)"
   ]
  },
  {
   "cell_type": "markdown",
   "metadata": {},
   "source": [
    "### Exercício 4 - Organizar projetos com FastAPI\n",
    "* Estruture seu projeto FastAPI de forma organizada, separando o código em múltiplos arquivos:\n",
    "  * Um arquivo para as rotas (routes.py).\n",
    "  * Um arquivo principal para a execução do app (main.py).\n",
    "  * Explique brevemente como essa estrutura ajuda na organização e manutenção do projeto."
   ]
  },
  {
   "cell_type": "markdown",
   "metadata": {},
   "source": [
    "##### Estrutura de pastas\n",
    "\n",
    "![Exercício_3](imagens/Exec4_1.png)"
   ]
  },
  {
   "cell_type": "markdown",
   "metadata": {},
   "source": [
    "##### Arquivo routes.py\n",
    "\n",
    "![Exercício_4](imagens/Exec4_3.png)"
   ]
  },
  {
   "cell_type": "markdown",
   "metadata": {},
   "source": [
    "##### Arquivo main.py\n",
    "\n",
    "![Exercício_4](imagens/Exec4_2.png)"
   ]
  },
  {
   "cell_type": "markdown",
   "metadata": {},
   "source": [
    "Uma estrutura de pastas adequada favorece a escalabilidade do projeto e a edição colaborativa, permitindo que diferentes desenvolvedores atuem simultaneamente em partes separadas do sistema. A organização também facilita a manutenção, pois ao identificar um erro você consegue localizar com maior facilidade o arquivo e trecho que originou o erro. A utilização do router também possibilita a separação das APIs em multiplos arquivos, de forma transparente para o resto do sistema."
   ]
  },
  {
   "cell_type": "markdown",
   "metadata": {},
   "source": [
    "### Exercício 5 - Manipular as respostas usando Response Models\n",
    "* Crie um Response Model para a rota /user/{username} que retorne um JSON com o nome do usuário e uma mensagem. Exemplo de resposta:\n",
    "\n",
    "```\n",
    "{\n",
    "\"username\": \"john\",\n",
    "\"message\": \"Welcome, john!\"\n",
    "} \n",
    "```"
   ]
  },
  {
   "cell_type": "markdown",
   "metadata": {},
   "source": [
    "![Exercício_5](imagens/Exec5_0.png)"
   ]
  },
  {
   "cell_type": "markdown",
   "metadata": {},
   "source": [
    "![Exercício_5](imagens/Exec5_1.png)"
   ]
  },
  {
   "cell_type": "markdown",
   "metadata": {},
   "source": [
    "### Exercício 6 - Tratar erros através de exceções HTTP\n",
    "* Implemente o tratamento de erro para a rota /user/{username}, retornando uma mensagem de erro 404 se o nome de usuário não for encontrado. Utilize o modelo de exceção HTTP:\n",
    "from fastapi import HTTPException"
   ]
  },
  {
   "cell_type": "markdown",
   "metadata": {},
   "source": [
    "![Exercício_6](imagens/Exec6_1.png)"
   ]
  },
  {
   "cell_type": "markdown",
   "metadata": {},
   "source": [
    "![Exercício_6](imagens/Exec6_2.png)"
   ]
  },
  {
   "cell_type": "markdown",
   "metadata": {},
   "source": [
    "### Exercício - 7 Criar rotas POST em FastAPI\n",
    "* Adicione uma rota POST chamada /create-user que receba um nome de usuário e idade via JSON no corpo da requisição, e retorne os dados recebidos. Exemplo de corpo da requisição:\n",
    "\n",
    "```\n",
    "{\n",
    "\"username\": \"john\",\n",
    "\"age\": 30\n",
    "}\n",
    "```"
   ]
  },
  {
   "cell_type": "markdown",
   "metadata": {},
   "source": [
    "![Exercício_7](imagens/Exec7_0.png)\n",
    "![Exercício_7](imagens/Exec7_2.png)"
   ]
  },
  {
   "cell_type": "markdown",
   "metadata": {},
   "source": [
    "### Exercício 8 - Validar dados de entrada com Pydantic\n",
    "\n",
    "* Utilize o Pydantic para validar a entrada de dados na rota /create-user. O nome de usuário deve ser uma string e a idade um número inteiro positivo. Caso os dados sejam inválidos, a API deve retornar um erro apropriado."
   ]
  },
  {
   "cell_type": "markdown",
   "metadata": {},
   "source": [
    "![Exercício_8](imagens/Exec8_1.png)\n",
    "![Exercício_8](imagens/Exec8_2.png)\n",
    "![Exercício_8](imagens/Exec8_3.png)\n"
   ]
  },
  {
   "cell_type": "markdown",
   "metadata": {},
   "source": [
    "### Exercício 9 - Criar múltiplos métodos HTTP para uma rota\n",
    "\n",
    "* Crie uma rota /item/{item_id} que suporte os métodos GET e DELETE:\n",
    "  * GET: Retorna o item correspondente ao item_id.\n",
    "  * DELETE: Remove o item do sistema e retorna uma mensagem de confirmação."
   ]
  },
  {
   "cell_type": "markdown",
   "metadata": {},
   "source": [
    "![Exercício_9](imagens/Exec9_1.png)\n",
    "![Exercício_9](imagens/Exec9_2.png)\n",
    "![Exercício_9](imagens/Exec9_3.png)"
   ]
  },
  {
   "cell_type": "markdown",
   "metadata": {},
   "source": [
    "### Exercício 10 - Tratar erros de validação com exceções personalizadas\n",
    "* Implemente uma exceção personalizada para tratar erros de validação na rota /item/{item_id}, retornando uma mensagem de erro 400 caso o item_id seja inválido."
   ]
  },
  {
   "cell_type": "markdown",
   "metadata": {},
   "source": [
    "![Exercício_10](imagens/Exec10_0.png)\n",
    "![Exercício_10](imagens/Exec10_1.png)\n"
   ]
  },
  {
   "cell_type": "markdown",
   "metadata": {},
   "source": [
    "### Exercício 11 - Explicar a importância de APIs no contexto da ciência de dados\n",
    "* Crie uma rota POST chamada /birthday que receba um nome e uma data de aniversário (no formato \"YYYY-MM-DD\") via JSON no corpo da requisição. A rota deve calcular quantos dias faltam até o próximo aniversário da pessoa e retornar uma mensagem personalizada."
   ]
  },
  {
   "cell_type": "markdown",
   "metadata": {},
   "source": [
    "A utilização de APIs por cientistas de dados tem grande aplicabilidade na obtenção de dados tanto de sistemas locais quanto de sistemas web.\n",
    " \n",
    "Além disso, APIs são extremamente úteis para o deploy de modelos de ML, permitindo os integrar como peças de sistemas maiores, que podem fornecer dados para alimentar o modelo e receber os outputs sem precisar conhecer detalhes da implementação do back-end. \n",
    "\n",
    "O uso de APIs também facilita o desenvolvimento colaborativo e simultâneo entre equipes, uma vez que diferentes partes do sistema podem ser trabalhadas de forma independente. Além disso, o uso de APIs prepara a solução para ser escalável, permitindo que serviços e modelos cresçam conforme a demanda e mantendo a padronização e simplificação na integração entre sistemas, o que é crucial para a manutenabilidade."
   ]
  },
  {
   "cell_type": "markdown",
   "metadata": {},
   "source": [
    "![Exercício_11](imagens/Exec11_1.png)\n",
    "![Exercício_11](imagens/Exec11_2.png)\n"
   ]
  },
  {
   "cell_type": "markdown",
   "metadata": {},
   "source": [
    "### Exercício 12 - Criar documentação automática com FastAPI\n",
    "* Use o Swagger UI integrado ao FastAPI para gerar automaticamente a documentação das rotas criadas neste exercício. Envie um print da interface gerada pelo Swagger."
   ]
  },
  {
   "cell_type": "markdown",
   "metadata": {},
   "source": [
    "![Exercício_12](imagens/Exec12_1.png)\n"
   ]
  }
 ],
 "metadata": {
  "kernelspec": {
   "display_name": "base",
   "language": "python",
   "name": "python3"
  },
  "language_info": {
   "codemirror_mode": {
    "name": "ipython",
    "version": 3
   },
   "file_extension": ".py",
   "mimetype": "text/x-python",
   "name": "python",
   "nbconvert_exporter": "python",
   "pygments_lexer": "ipython3",
   "version": "3.12.4"
  }
 },
 "nbformat": 4,
 "nbformat_minor": 2
}
